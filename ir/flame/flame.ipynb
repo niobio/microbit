{
 "cells": [
  {
   "cell_type": "markdown",
   "metadata": {},
   "source": [
    "# Detecció de foc amb infraroigs\n",
    "\n",
    "El mòdul KY-026 és un sensor d'infraroigs que es pot fer servir per a fer detecció de foc, ja que detecta flames de longituds d'ona que van de 760 nm a 1100 nm. \n",
    "\n",
    "<img src=\"img/ir_flame.jpeg\" style=\"center\" width=\"50%\">\n",
    "\n",
    "\n",
    "\n",
    "<img src=\"img/ir_flame_pins.png\" style=\"center\" width=\"50%\">\n",
    "\n",
    "\n",
    "Girant el cargol es pot ajustar la sensibilitat del sensor.\n",
    "\n",
    "<img src=\"img/sens-poti.jpg\" style=\"center\" width=\"30%\">\n",
    "\n",
    "\n",
    "## Codi per a utilitzar-lo com a sensor digital"
   ]
  },
  {
   "cell_type": "code",
   "execution_count": null,
   "metadata": {},
   "outputs": [],
   "source": [
    "from microbit import *\n",
    "\n",
    "while True:\n",
    "    flame = pin4.read_digital()\n",
    "    if flame == True:\n",
    "        display.show(Image.YES)\n",
    "    else:\n",
    "        display.show(Image.NO)\n",
    "    sleep(500)\n"
   ]
  },
  {
   "cell_type": "markdown",
   "metadata": {},
   "source": [
    "## Codi per a utilitzar-lo com a sensor analògic"
   ]
  },
  {
   "cell_type": "code",
   "execution_count": null,
   "metadata": {},
   "outputs": [],
   "source": [
    "from microbit import *\n",
    "\n",
    "while True:\n",
    "    flame = pin4.read_analog()\n",
    "    display.scroll(flame)\n",
    "    sleep(500)"
   ]
  }
 ],
 "metadata": {
  "kernelspec": {
   "display_name": "Python 3",
   "language": "python",
   "name": "python3"
  },
  "language_info": {
   "codemirror_mode": {
    "name": "ipython",
    "version": 3
   },
   "file_extension": ".py",
   "mimetype": "text/x-python",
   "name": "python",
   "nbconvert_exporter": "python",
   "pygments_lexer": "ipython3",
   "version": "3.6.7"
  }
 },
 "nbformat": 4,
 "nbformat_minor": 2
}
