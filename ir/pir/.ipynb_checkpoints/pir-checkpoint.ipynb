{
 "cells": [
  {
   "cell_type": "markdown",
   "metadata": {},
   "source": [
    "# Detecció de moviments amb infrarroigs\n",
    "\n",
    "\n",
    "El sensor que es veu a la imatge inferior és un HC-SR501, es tracta d'un sensor infrarroig passiu (PIR), i serveix per a detectar moviments. Resulta habitual trobarlos als lavabos públics per encendre la llum quan detecta la presencia de persones.\n",
    "\n",
    "<img src=\"img/PIR_1.jpeg\" style=\"centered\" width=\"40%\">\n",
    "\n",
    "<img src=\"img/PIR_2.jpg\" style=\"centered\" width=\"70%\">\n",
    "\n",
    "\n",
    "Si vols saber més de com funcionen els PIR pots consultar <a href=\"https://learn.adafruit.com/pir-passive-infrared-proximity-motion-sensor/how-pirs-work\" target=\"_blank\">aquesta pàgina</a>.\n",
    "\n",
    "A continuació tenim un exemple de codi que permet detectar el moviment:"
   ]
  },
  {
   "cell_type": "code",
   "execution_count": null,
   "metadata": {
    "collapsed": true
   },
   "outputs": [],
   "source": [
    "from microbit import *\n",
    "\n",
    "while True:\n",
    "    # Utilitzem em pin3 per llegir el sensor\n",
    "    input_state = pin3.read_digital()  \n",
    "    if input_state == True:\n",
    "        display.show(Image.YES)\n",
    "    else:\n",
    "        display.show(Image.NO)\n",
    "    sleep(500)\n"
   ]
  }
 ],
 "metadata": {
  "kernelspec": {
   "display_name": "Python 3",
   "language": "python",
   "name": "python3"
  },
  "language_info": {
   "codemirror_mode": {
    "name": "ipython",
    "version": 3
   },
   "file_extension": ".py",
   "mimetype": "text/x-python",
   "name": "python",
   "nbconvert_exporter": "python",
   "pygments_lexer": "ipython3",
   "version": "3.6.7"
  }
 },
 "nbformat": 4,
 "nbformat_minor": 2
}
