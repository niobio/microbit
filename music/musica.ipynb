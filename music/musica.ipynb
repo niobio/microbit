{
 "cells": [
  {
   "cell_type": "markdown",
   "metadata": {},
   "source": [
    "# Música amb BBC micro:bit\n",
    "\n",
    "## Introducció a la placa micro:bit\n",
    "\n",
    "\n",
    "<div align=\"middle\">\n",
    "    <img src=\"img/microbit.jpg\" width=\"80%\"></a>\n",
    "</div>\n",
    "\n",
    "## La plana web de referència: [https://microbit.org](https://microbit.org)\n",
    "\n",
    "<div align=\"middle\">\n",
    "    <img src=\"img/home.png\" width=\"90%\">\n",
    "</div>\n",
    "\n",
    "\n",
    "\n",
    "\n"
   ]
  },
  {
   "cell_type": "markdown",
   "metadata": {},
   "source": [
    "## Utilització en projectes interdisicplinaris: Domus\n",
    "\n"
   ]
  },
  {
   "cell_type": "markdown",
   "metadata": {},
   "source": [
    "\n",
    "\n",
    "\n",
    "<div align=\"middle\">\n",
    "<video width=\"320\" height=\"240\" controls>\n",
    "  <source src=\"path/to/your.mp4\" type=\"video/mp4\">\n",
    "</video>\n",
    "</div>"
   ]
  },
  {
   "cell_type": "markdown",
   "metadata": {},
   "source": [
    "## Melodies incorporades\n",
    "\n",
    "Hi ha un conjunt de melodies que ja venen incorporades amb el mòdul music de mic"
   ]
  },
  {
   "cell_type": "markdown",
   "metadata": {},
   "source": [
    "## Theremin\n",
    "\n",
    "\n",
    "<div align=\"middle\">\n",
    "<iframe width=\"560\" height=\"315\" src=\"https://www.youtube.com/embed/K6KbEnGnymk\"></iframe>\n",
    "</div>\n",
    "\n",
    "\n",
    "\n"
   ]
  }
 ],
 "metadata": {
  "kernelspec": {
   "display_name": "Python 3",
   "language": "python",
   "name": "python3"
  },
  "language_info": {
   "codemirror_mode": {
    "name": "ipython",
    "version": 3
   },
   "file_extension": ".py",
   "mimetype": "text/x-python",
   "name": "python",
   "nbconvert_exporter": "python",
   "pygments_lexer": "ipython3",
   "version": "3.6.7"
  }
 },
 "nbformat": 4,
 "nbformat_minor": 2
}
