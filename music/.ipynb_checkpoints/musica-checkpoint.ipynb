{
 "cells": [
  {
   "cell_type": "markdown",
   "metadata": {},
   "source": [
    "# Música amb BBC micro:bit\n",
    "\n",
    "## Introducció a la placa micro:bit\n",
    "\n",
    "\n",
    "La plana web de referència:\n",
    "<br>\n",
    "<div align=\"middle\">\n",
    "    <a href=\"https://microbit.org/\"><img src=\"img/home.png\" width=\"90%\"></a>\n",
    "</div>\n",
    "\n",
    "\n",
    "\n",
    "\n"
   ]
  },
  {
   "cell_type": "markdown",
   "metadata": {},
   "source": [
    "\n",
    "\n",
    "\n",
    "<div align=\"middle\">\n",
    "<video width=\"320\" height=\"240\" controls>\n",
    "  <source src=\"path/to/your.mp4\" type=\"video/mp4\">\n",
    "</video>\n",
    "</div>"
   ]
  },
  {
   "cell_type": "markdown",
   "metadata": {},
   "source": [
    "## Melodies incorporades\n",
    "\n",
    "Hi ha un conjunt de melodies que ja venen incorporades amb el mòdul music de mic"
   ]
  }
 ],
 "metadata": {
  "kernelspec": {
   "display_name": "Python 3",
   "language": "python",
   "name": "python3"
  },
  "language_info": {
   "codemirror_mode": {
    "name": "ipython",
    "version": 3
   },
   "file_extension": ".py",
   "mimetype": "text/x-python",
   "name": "python",
   "nbconvert_exporter": "python",
   "pygments_lexer": "ipython3",
   "version": "3.6.7"
  }
 },
 "nbformat": 4,
 "nbformat_minor": 2
}
