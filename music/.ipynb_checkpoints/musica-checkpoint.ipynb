{
 "cells": [
  {
   "cell_type": "markdown",
   "metadata": {},
   "source": [
    "# Música amb BBC micro:bit\n",
    "\n",
    "## Introducció a la placa micro:bit\n",
    "\n",
    "<p>\n",
    "<div align=\"middle\">\n",
    "    <img src=\"img/microbit.jpg\" width=\"80%\"></a>\n",
    "</div>\n",
    "</p>\n",
    "\n",
    "## La plana web de referència: [https://microbit.org](https://microbit.org)\n",
    "\n",
    "<p>\n",
    "<div align=\"middle\">\n",
    "    <img src=\"img/home.png\" width=\"90%\">\n",
    "</div>\n",
    "</p>\n"
   ]
  },
  {
   "cell_type": "markdown",
   "metadata": {},
   "source": [
    "## Utilització en projectes interdisicplinaris: Domus\n",
    "\n",
    "<p>\n",
    "<div align=\"middle\">\n",
    "    <img src=\"img/domus1.jpg\" width=\"90%\">\n",
    "</div>\n",
    "</p>\n",
    "<p>\n",
    "<div align=\"middle\">\n",
    "    <img src=\"img/domus2.jpg\" width=\"90%\">\n",
    "</div>\n",
    "</p>\n",
    "<p>\n",
    "<div align=\"middle\">\n",
    "    <img src=\"img/domus3.jpg\" width=\"90%\">\n",
    "</div>\n",
    "</p>\n",
    "<p>\n",
    "<div align=\"middle\">\n",
    "    <img src=\"img/domus4.jpg\" width=\"90%\">\n",
    "</div>\n",
    "</p>"
   ]
  },
  {
   "cell_type": "markdown",
   "metadata": {},
   "source": [
    "## Començar a programar\n",
    "\n",
    "<p>\n",
    "<div align=\"middle\">\n",
    "    <img src=\"img/makecode.png\" width=\"90%\">\n",
    "</div>\n",
    "</p>\n",
    "\n",
    "\n",
    "## Fem una mica de música\n",
    "\n",
    "<p>\n",
    "<div align=\"middle\">\n",
    "    <img src=\"img/cargol.png\" width=\"90%\">\n",
    "</div>\n",
    "</p>\n",
    "\n",
    "### Repte:\n",
    "<p>\n",
    "<div align=\"middle\">\n",
    "    <img src=\"img/plou.png\" width=\"90%\">\n",
    "</div>\n",
    "</p>\n"
   ]
  },
  {
   "cell_type": "markdown",
   "metadata": {},
   "source": [
    "## Theremin\n",
    "\n",
    "\n",
    "<div align=\"middle\">\n",
    "<iframe width=\"560\" height=\"315\" src=\"https://www.youtube.com/embed/K6KbEnGnymk\"></iframe>\n",
    "</div>\n",
    "\n",
    "\n",
    "### Codi d'exemple\n",
    "<p>\n",
    "<div align=\"middle\">\n",
    "    <img src=\"img/theremin1.png\" width=\"40%\">\n",
    "</div>\n",
    "</p>\n",
    "\n",
    "### Repte senzill\n",
    "* Quin efecte té canviar el número 440 en el to?\n",
    "* Què passa quan canviem el nombre pel que dividim?\n",
    "\n",
    "### Repte intermig\n",
    "Com podem fer per a que el theremin funcioni amb el moviment dels tres eixos?\n",
    "\n",
    "### Repte avançat\n",
    "Podem canviar el codi per a obtenir una nota diferent per a cada inclinació cada 100 ms, en lloc de un canvi continu de to?\n"
   ]
  },
  {
   "cell_type": "markdown",
   "metadata": {},
   "source": [
    "## Música i matemàtiques\n",
    "\n",
    "<p>\n",
    "<div align=\"middle\">\n",
    "    <img src=\"img/modes.png\" width=\"40%\">\n",
    "</div>\n",
    "</p>"
   ]
  }
 ],
 "metadata": {
  "kernelspec": {
   "display_name": "Python 3",
   "language": "python",
   "name": "python3"
  },
  "language_info": {
   "codemirror_mode": {
    "name": "ipython",
    "version": 3
   },
   "file_extension": ".py",
   "mimetype": "text/x-python",
   "name": "python",
   "nbconvert_exporter": "python",
   "pygments_lexer": "ipython3",
   "version": "3.6.7"
  }
 },
 "nbformat": 4,
 "nbformat_minor": 2
}
