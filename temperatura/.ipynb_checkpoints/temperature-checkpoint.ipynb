{
 "cells": [
  {
   "cell_type": "markdown",
   "metadata": {},
   "source": [
    "# Mesurar temperatura amb la placa micro:bit\n",
    "\n",
    "La manera més fàcil de mesurar temperatura amb la placa micro:bit és fent servir el sensor de temperatura que té incorporat el microprocessador de la placa. La funció d'aquest sensor és la de poder monitoritzar la temperatura del xip però com aquest no puja la temperatura de manera significativa, el podem fer servir per mesurar la temperatura ambient, sobre tot quan fa poc que s'ha posat en funcionament i encara no ha tingut temps d'escalfar-se. A sota podem veure la ubicació del processador (indicat en vermell), el sensor de temperatura es troba a dintre del processador.\n",
    "<br>\n",
    "<div align=\"middle\">\n",
    "<img src=\"img/microbit_processor.png\" width=\"40%\">\n",
    "</div>\n",
    "<br>\n",
    "\n",
    "En aquest vídeo tenim una introducció al sensor de temperatura:\n",
    "\n",
    "<div align=\"middle\">\n",
    "<iframe width=\"560\" height=\"315\" src=\"https://www.youtube.com/embed/mrHn8eZ9eqg\" frameborder=\"0\" allow=\"accelerometer; autoplay; clipboard-write; encrypted-media; gyroscope; picture-in-picture\" allowfullscreen></iframe>\n",
    "</div>\n",
    "\n",
    "## El codi\n",
    "\n",
    "Per llegir el valor de temperatura del sensor intern amb el llenguatge de blocs [MakeCode](https://makecode.microbit.org/) podem fer servir el següent codi:\n",
    "<br>\n",
    "<div align=\"middle\">\n",
    "<img src=\"img/temp_01.png\" width=\"40%\">\n",
    "</div>\n",
    "<br>\n",
    "D'aquesta manera, quan premem el botó A el valor de la temperatura apareix a la matriu de leds de la micro:bit.\n",
    "\n",
    "El codi equivalent en Python es:"
   ]
  },
  {
   "cell_type": "code",
   "execution_count": null,
   "metadata": {},
   "outputs": [],
   "source": [
    "from microbit import *\n",
    "\n",
    "while True:\n",
    "    if button_a.was_pressed():\n",
    "        display.scroll(temperature())"
   ]
  },
  {
   "cell_type": "markdown",
   "metadata": {},
   "source": [
    "## Prendre'ns la temperatura corporal\n",
    "\n",
    "Per prendre'ns la temperatura en comptes de demanar que ens doni la temperatura prement un botó podem fer que els programa ens doni la temperatura constantment amb el codi que veiem a sota:\n",
    "\n",
    "<br>\n",
    "<div align=\"middle\">\n",
    "<img src=\"img/temp_02.png\" width=\"40%\">\n",
    "</div>\n",
    "<br>\n",
    "\n",
    "\n",
    "El codi equivalent en Python és:"
   ]
  },
  {
   "cell_type": "code",
   "execution_count": null,
   "metadata": {},
   "outputs": [],
   "source": [
    "from microbit import *\n",
    "\n",
    "while True:\n",
    "    display.scroll(temperature())"
   ]
  },
  {
   "cell_type": "markdown",
   "metadata": {},
   "source": [
    "La placa mesura la temperatura amb nombres enters, la qual cosa no la fa adient per saber si tenim febre però sí ens permet tenir una idea, si ens mesurem la temperatura i ens indica 36 podem estar tranquils, si ens indica 37, millor assegurar-nos amb un altre termòmetre que estigui homologat. Aquest podria ser el criteri. \n",
    "\n",
    "**NOTA IMPORTANT: Aquesta manera de mesurar la temperatura corporal té una finalitat didàctica i en cap cas pot reemplaçar la utilització de termòmetres homologats.**\n",
    "\n",
    "Per prendre'ns la temperatura podem posar en contacte el processador amb el front durant una estona.\n",
    "\n",
    "\n",
    "## Mesurar la temperatura amb un sensor extern\n",
    "Si volem mesurar la temperatura amb un sensor extern i obtenir una mesura amb major precisió podem fer servir el tutorial https://www.teachwithict.com/temp.html on es fa servir el sensor [TMP36](https://www.analog.com/media/en/technical-documentation/data-sheets/TMP35_36_37.pdf). Hem de recordar que si fem servir un sensor extern hem de fer una calibració del sensor o fer servir les corbes de calibració proveïdes pel fabricant.\n"
   ]
  }
 ],
 "metadata": {
  "kernelspec": {
   "display_name": "Python 3",
   "language": "python",
   "name": "python3"
  },
  "language_info": {
   "codemirror_mode": {
    "name": "ipython",
    "version": 3
   },
   "file_extension": ".py",
   "mimetype": "text/x-python",
   "name": "python",
   "nbconvert_exporter": "python",
   "pygments_lexer": "ipython3",
   "version": "3.8.2"
  }
 },
 "nbformat": 4,
 "nbformat_minor": 2
}
