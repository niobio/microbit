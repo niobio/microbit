{
 "cells": [
  {
   "cell_type": "markdown",
   "metadata": {},
   "source": [
    "# Enviant missatges a l'ordinador a través del port USB\n",
    "\n",
    "La matriu de LED de la micro:bit pot mostrar missatges, però moltes vegades la matriu de LED resulta insuficient o necessitem fer servir els pins GPIO que controlen la matriu de LED per connectar algun dispositiu i aleshores hem de desactivar el display. En aquests casos, si volem conèixer les dades d'un sensor podem enviarles a l'ordinador a través del port USB. \n",
    "\n",
    "## El codi de la micro:bit\n",
    "\n",
    "A continuació podem veure un exemple del codi de la microbit que imprimeix les dades donades pel sensor de temperatura que ve inclòs en el microprocessador de la microbit."
   ]
  },
  {
   "cell_type": "code",
   "execution_count": null,
   "metadata": {},
   "outputs": [],
   "source": [
    "from microbit import *\n",
    "\n",
    "while True:\n",
    "    print(temperature())\n",
    "    sleep(1000)"
   ]
  },
  {
   "cell_type": "markdown",
   "metadata": {},
   "source": [
    "L'ordre `print` envia la lectura"
   ]
  }
 ],
 "metadata": {
  "kernelspec": {
   "display_name": "Python 3",
   "language": "python",
   "name": "python3"
  },
  "language_info": {
   "codemirror_mode": {
    "name": "ipython",
    "version": 3
   },
   "file_extension": ".py",
   "mimetype": "text/x-python",
   "name": "python",
   "nbconvert_exporter": "python",
   "pygments_lexer": "ipython3",
   "version": "3.6.7"
  }
 },
 "nbformat": 4,
 "nbformat_minor": 2
}
