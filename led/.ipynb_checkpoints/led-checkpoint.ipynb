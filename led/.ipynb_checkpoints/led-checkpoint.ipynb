{
 "cells": [
  {
   "cell_type": "markdown",
   "metadata": {},
   "source": [
    "# Controlar un led amb la microbit\n",
    "\n",
    "Aprendrem aquí com connectar una microbit a un protoboard i com encendre i apagar un LED, controlar la seva brillantor i també construirem un semáfor.\n",
    "\n",
    "\n",
    "<div align=\"middle\">\n",
    "<video width=\"60%\">\n",
    "      <source src=\"img/leds_traffic.mp4\" type=\"video/mp4\">\n",
    "</video></div>\n",
    "\n",
    "Primer començarem per encendre un LED i després afegirem dos LED més per fer el semàfor.\n",
    "\n",
    "## Material necessari\n",
    "* microbit\n",
    "* Protoboard\n",
    "* Cables\n",
    "* 3 LED (verd, groc, vermell)\n",
    "* Resistències de 220 ohm\n",
    "\n",
    "## Controlant un LED\n",
    "\n",
    "Connecteu el resistor i el LED com mostra l'esquema inferior. Assegureu-vos que la pota més llarga del LED (terminal positiu) és el de l'esquerra. El resistor no té polaritat, per tent, no importa com el connecteu.\n",
    "\n",
    "<div align=\"middle\">\n",
    "<img src=\"img/leds_breadboard_blink.png\" width=\"50%\">\n",
    "</div>\n",
    "\n",
    "La raó per la que connectem el resistor en sèrie amb el LED és limitar la intensitat de corrent que hi circula pel circuit i, d'aquesta manera, protegit el LED de sobreintensitats i evitar que peti.\n",
    "\n",
    "El codi per fer funcionar el LED és el que s'observa a continuació"
   ]
  },
  {
   "cell_type": "code",
   "execution_count": null,
   "metadata": {},
   "outputs": [],
   "source": [
    "from microbit import *\n",
    "     \n",
    "while True: \n",
    "        pin0.write_digital(1)  # turn pin0 (and the LED) on\n",
    "        sleep(500)             # delay for half a second (500 milliseconds)\n",
    "        pin0.write_digital(0)  # turn pin0 (and the LED) off\n",
    "        sleep(500)             # delay for half a second"
   ]
  },
  {
   "cell_type": "markdown",
   "metadata": {},
   "source": [
    "## Exercici\n",
    "\n",
    "Feu un muntatge semblant amb tres LED per a simular el funcionament d'un semàfor."
   ]
  }
 ],
 "metadata": {
  "kernelspec": {
   "display_name": "Python 3",
   "language": "python",
   "name": "python3"
  },
  "language_info": {
   "codemirror_mode": {
    "name": "ipython",
    "version": 3
   },
   "file_extension": ".py",
   "mimetype": "text/x-python",
   "name": "python",
   "nbconvert_exporter": "python",
   "pygments_lexer": "ipython3",
   "version": "3.6.7"
  }
 },
 "nbformat": 4,
 "nbformat_minor": 2
}
