{
 "cells": [
  {
   "cell_type": "markdown",
   "metadata": {},
   "source": [
    "# Controlar un LED amb la microbit\n",
    "\n",
    "Aprendrem aquí com connectar una microbit a un protoboard i com encendre i apagar un LED, controlar la seva brillantor i també construirem un semáfor.\n",
    "\n",
    "\n",
    "<div align=\"middle\">\n",
    "<video width=\"60%\">\n",
    "      <source src=\"img/leds_traffic.mp4\" type=\"video/mp4\">\n",
    "</video></div>\n",
    "\n",
    "Primer començarem per encendre un LED i després afegirem dos LED més per fer el semàfor.\n",
    "\n",
    "## Material necessari\n",
    "* microbit\n",
    "* Protoboard\n",
    "* Cables\n",
    "* 3 LED (verd, groc, vermell)\n",
    "* Resistències de 220 ohm\n",
    "\n",
    "## Controlant un LED\n",
    "\n",
    "Connecteu el resistor i el LED com mostra l'esquema inferior. Assegureu-vos que la pota més llarga del LED (terminal positiu) és el de l'esquerra. El resistor no té polaritat, per tent, no importa com el connecteu.\n",
    "\n",
    "<div align=\"middle\">\n",
    "<img src=\"img/leds_breadboard_blink.png\" width=\"50%\">\n",
    "</div>\n",
    "\n",
    "La raó per la que connectem el resistor en sèrie amb el LED és limitar la intensitat de corrent que hi circula pel circuit i, d'aquesta manera, protegit el LED de sobreintensitats i evitar que peti.\n",
    "\n",
    "El codi per fer funcionar el LED és el que s'observa a continuació"
   ]
  },
  {
   "cell_type": "code",
   "execution_count": null,
   "metadata": {},
   "outputs": [],
   "source": [
    "from microbit import *\n",
    "     \n",
    "while True: \n",
    "        pin0.write_digital(1)  # turn pin0 (and the LED) on\n",
    "        sleep(500)             # delay for half a second (500 milliseconds)\n",
    "        pin0.write_digital(0)  # turn pin0 (and the LED) off\n",
    "        sleep(500)             # delay for half a second"
   ]
  },
  {
   "cell_type": "markdown",
   "metadata": {},
   "source": [
    "## Exercici\n",
    "\n",
    "Feu un muntatge semblant amb tres LED per a simular el funcionament d'un semàfor.\n",
    "\n",
    "## Controlar la brillantor d'un LED\n",
    "\n",
    "A més d'encendre i apagar un LED podem controlar la seva brillantor. En aquest cas farem un programa que controli la brillanto a través dels botons de la micro:bit, si prenem el botó A el LED brilla menys i si prenem el botó B el LED brilla més. Al mateix temps el display va mostrant el nivell de brillantor amb números de 0 a 9.\n",
    "\n",
    "<div align=\"middle\">\n",
    "<video width=\"60%\">\n",
    "      <source src=\"img/leds_brightness.mp4\" type=\"video/mp4\">\n",
    "</video></div>\n",
    "\n",
    "### Codi"
   ]
  },
  {
   "cell_type": "code",
   "execution_count": null,
   "metadata": {},
   "outputs": [],
   "source": [
    "from microbit import *\n",
    "     \n",
    "min_power = 50\n",
    "max_power = 1023\n",
    "power_step = (max_power - min_power) / 9\n",
    "brightness = 0\n",
    "     \n",
    "def set_power(brightness):\n",
    "    display.show(str(brightness))\n",
    "    if brightness == 0:\n",
    "        pin0.write_analog(0)\n",
    "    else:\n",
    "        pin0.write_analog(brightness * power_step + min_power)\n",
    "       \n",
    "set_power(brightness)\n",
    "       \n",
    "while True:\n",
    "    if button_a.was_pressed():\n",
    "        brightness -= 1\n",
    "        if brightness < 0:\n",
    "            brightness = 0\n",
    "        set_power(brightness)\n",
    "    elif button_b.was_pressed():\n",
    "        brightness += 1\n",
    "        if brightness > 9:\n",
    "            brightness = 9\n",
    "        set_power(brightness)\n",
    "    sleep(100)"
   ]
  },
  {
   "cell_type": "markdown",
   "metadata": {},
   "source": [
    "En el codi que apareix a sobre hi ha definides quatre variables per a les quals el seu nom resulta autoexplicatiu. La funció `set_power` s'encarrega de mostrar el nivell de brillantor a la pantalla de la micro:bit. En el bucle infinit es produeix tot el funcionament del programa."
   ]
  }
 ],
 "metadata": {
  "kernelspec": {
   "display_name": "Python 3",
   "language": "python",
   "name": "python3"
  },
  "language_info": {
   "codemirror_mode": {
    "name": "ipython",
    "version": 3
   },
   "file_extension": ".py",
   "mimetype": "text/x-python",
   "name": "python",
   "nbconvert_exporter": "python",
   "pygments_lexer": "ipython3",
   "version": "3.6.7"
  }
 },
 "nbformat": 4,
 "nbformat_minor": 2
}
