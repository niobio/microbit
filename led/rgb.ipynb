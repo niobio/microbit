{
 "cells": [
  {
   "cell_type": "markdown",
   "metadata": {},
   "source": [
    "# Controlar un LED RGB\n",
    "\n",
    "Els LED RGB són LED amb els quals podem controlar el color. El LED té 4 potes anomenades R (red), G (green), B (blue) i GND (terra). Podem controlar el color del led fent combinacions entre els tres colors. Si combinem vermell i blau ens sortirà un magenta, si barregem verd i blau ens sortirà un cian i barrenjant vermell i verd ens sortirà groc.\n",
    "\n",
    "A la figura de sota podem veure un led RGB:\n",
    "\n",
    "<div align=\"middle\">\n",
    "<img src=\"img/rgb.jpeg\" width=\"40%\">\n",
    "</div>\n",
    "\n",
    "A la figura següent s’observa un LED RGB SMD (surface mount device):\n",
    "\n",
    "<div align=\"middle\">\n",
    "<img src=\"img/rgb_smd.jpeg\" width=\"40%\">\n",
    "</div>\n",
    "\n",
    "Per a controlar la manera de barrejar els colors podem fer servir la tècnica PWM (veure controlar la brillantor d’un LED).\n",
    "\n",
    "## Connexió amb la micro:bit\n",
    "\n",
    "<div align=\"middle\">\n",
    "<img src=\"img/rgb_microbit.jpg\" width=\"50%\">\n",
    "</div>\n",
    "\n",
    "## Codi\n",
    "\n",
    "Amb el codi següent podem veure com fer per canviar el color i la intensitat de la llum d’un LED introduint la component de cada color amb un valor entre 0 i 1023 per indicar la intensitat de la llum. El codi següent correspon a la connexió de la figura anterior."
   ]
  },
  {
   "cell_type": "code",
   "execution_count": null,
   "metadata": {},
   "outputs": [],
   "source": [
    "from microbit import *\n",
    "\n",
    "def set_rgb(red, green, blue):\n",
    " pin0.write_analog(red)\n",
    " pin1.write_analog(green)\n",
    " pin2.write_analog(blue)\n",
    "\n",
    "while True:\n",
    " set_rgb(255, 0, 0)\n",
    " sleep(4000)\n",
    " set_rgb(800, 100, 0)\n",
    " sleep(1000)\n",
    " set_rgb(0, 1023, 0)\n",
    " sleep(5000)\n",
    " set_rgb(800, 100, 0)\n",
    " sleep(1000) "
   ]
  }
 ],
 "metadata": {
  "kernelspec": {
   "display_name": "Python 3",
   "language": "python",
   "name": "python3"
  },
  "language_info": {
   "codemirror_mode": {
    "name": "ipython",
    "version": 3
   },
   "file_extension": ".py",
   "mimetype": "text/x-python",
   "name": "python",
   "nbconvert_exporter": "python",
   "pygments_lexer": "ipython3",
   "version": "3.6.7"
  }
 },
 "nbformat": 4,
 "nbformat_minor": 2
}
