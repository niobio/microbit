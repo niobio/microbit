{
 "cells": [
  {
   "cell_type": "markdown",
   "metadata": {},
   "source": [
    "# Sensor de distància per ultrasons\n",
    "\n",
    "## Funcionament del sensor\n",
    "El sensor d'ultrasons funciona enviant una ona d'alta freqüència i calculant el temps que pren el senyal en tornar (ressò). El sensor té un emissor i un receptor que es poden veure a la figura de sota. L'ona emesa viatja a la velocitat del so (341 m/s) a l'aire. Utilitzant aquesta informació, juntament amb el temps que tarda l'ona en anar i tornar des de l'obstacle trobat, la placa micro:bit pot determinar a quina distància es troba l'objecte.\n",
    "\n",
    "<div align=\"middle\">\n",
    "<img src=\"img/sensor-ultrasonido-hc-sr04.jpg\" width=\"30%\">\n",
    "</div>\n",
    "\n",
    "\n",
    "$$\\text{Distància a l'objecte} = \\frac{T}{2}\\times \\text{velocitat del so}$$\n",
    "\n",
    "on $T$ és el temps emprat per l'ona en anar i tornar al sensor. Dividim el temps per 2 per tenir només el temps d'anada.\n",
    "\n",
    "<div align=\"middle\">\n",
    "<img src=\"img/hc-sr04-5v-fig-1.png\" width=\"80%\">\n",
    "</div>\n",
    "\n",
    "\n",
    "## Característiques del sensor HC-SR04\n",
    "* Font d'alimentació: 5 V CC\n",
    "* Corrent de treball: 15 mA\n",
    "* Rang de distàncies: 2 cm a 400 cm\n",
    "* Resolució: 0,3 cm\n",
    "* Angle de mesura: 30 graus\n",
    "* Dimensions: 45 mm x 20 mm x 15 mm\n",
    "\n",
    "## Materials necessaris\n",
    "* Placa micro:bit\n",
    "* Cable USB per la micro:bit\n",
    "* Shield micro:bit\n",
    "* Power pack\n",
    "* Cable pel Power pack\n",
    "* Sensor HC-SR04\n",
    "* Cables\n",
    "\n",
    "## Connexions\n",
    "\n",
    "A la figura inferior es pot apreciar el connexionat del sensor. Nosaltres utilitzarem el shield adaptador motor:bit per tant, tindrem que tenir en compte que les connexions al sensor sortiran del shield.\n",
    "\n",
    "<div align=\"middle\">\n",
    "<img src=\"img/hc-sr04-5v_2.png\" width=\"80%\">\n",
    "</div>\n",
    "\n",
    "## Codi en micropython\n",
    "\n",
    "Per fer funcionar el sensor haurem d'importar el mòdul `hcsr04` que el podrem descarregar [d'aquí](hcsr04.py) i l'haurem de copiar a la micro:bit per tal que estigui disponible per fer la importació del mòdul. En aquest mòdul els pins estan configurats perquè siguin:\n",
    "\n",
    "* Pin 14: ECHO\n",
    "* Pin 15: TRIGGER\n",
    "\n",
    "Un possible codi en el qual es fa funcionar el sensor quan es prem el botó A es pot veure a continuació:"
   ]
  },
  {
   "cell_type": "code",
   "execution_count": null,
   "metadata": {},
   "outputs": [],
   "source": [
    "from hcsr04 import HCSR04\n",
    "from microbit import sleep, button_a, display\n",
    "\n",
    "\n",
    "sonar = HCSR04()\n",
    "while True:\n",
    "    if button_a.is_pressed():\n",
    "        distance = round(sonar.distance_mm()/10) #La distància es guarda en cm\n",
    "        if distance < 10:\n",
    "            display.show(str(distance))\n",
    "        else:\n",
    "            display.scroll(str(distance))\n",
    "        while button_a.is_pressed():\n",
    "            sleep(100)\n",
    "    sleep(100)"
   ]
  }
 ],
 "metadata": {
  "kernelspec": {
   "display_name": "Python 3",
   "language": "python",
   "name": "python3"
  },
  "language_info": {
   "codemirror_mode": {
    "name": "ipython",
    "version": 3
   },
   "file_extension": ".py",
   "mimetype": "text/x-python",
   "name": "python",
   "nbconvert_exporter": "python",
   "pygments_lexer": "ipython3",
   "version": "3.6.8"
  }
 },
 "nbformat": 4,
 "nbformat_minor": 2
}
