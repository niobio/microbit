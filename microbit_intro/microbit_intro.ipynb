{
 "cells": [
  {
   "cell_type": "markdown",
   "metadata": {},
   "source": [
    "# Introducció a la placa micro:bit\n",
    "\n",
    "La placa <a href=\"https://microbit.org\" target=\"_blank\">micro:bit</a> és\n",
    "\n",
    "\n",
    "<figure>\n",
    "  <img src=\"img/microbit-features.jpg\" width=\"70%\">\n",
    "  <figcaption><center> Les parts de la placa microbit.</figcaption>\n",
    "</figure>\n",
    "\n",
    "\n",
    "<figure>\n",
    "  <img src=\"img/microbit_pins.jpeg\" width=\"40%\">\n",
    "  <figcaption><center> Identificació dels pins de la placa microbit.</figcaption>\n",
    "</figure>\n",
    "\n",
    "\n",
    "\n",
    "Per a una informació completa sobre com funcionen els pins de la microbit ens hem d'adreçar a la referència oficial: https://microbit-micropython.readthedocs.io/en/latest/pin.html\n"
   ]
  },
  {
   "cell_type": "code",
   "execution_count": null,
   "metadata": {},
   "outputs": [],
   "source": [
    "from microbit import *\n",
    "pin0.set_analog_period(20)\n",
    "while True:\n",
    "    pin0.write_analog(180)\n",
    "    sleep(1000)\n",
    "    pin0.write_analog(1)\n",
    "    sleep(1000)"
   ]
  }
 ],
 "metadata": {
  "kernelspec": {
   "display_name": "Python 3",
   "language": "python",
   "name": "python3"
  },
  "language_info": {
   "codemirror_mode": {
    "name": "ipython",
    "version": 3
   },
   "file_extension": ".py",
   "mimetype": "text/x-python",
   "name": "python",
   "nbconvert_exporter": "python",
   "pygments_lexer": "ipython3",
   "version": "3.6.7"
  }
 },
 "nbformat": 4,
 "nbformat_minor": 2
}
