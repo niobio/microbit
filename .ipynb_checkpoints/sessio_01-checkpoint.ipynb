{
 "cells": [
  {
   "cell_type": "markdown",
   "metadata": {},
   "source": [
    "# Introducció a la micro:bit\n",
    "\n",
    "### Material necessari:\n",
    "* Placa MicroBit\n",
    "* Cable USB\n",
    "* Ordinador\n",
    "\n",
    "### Objectius\n",
    "* Presentació de la placa\n",
    "* Recordar el llenguatge de blocs: JavaScript Blocs Editor\n",
    "* Diferenciar entre Forever/start\n",
    "* Veure dues possibilitats diferents de la placa (matriu de LEDs, acceleròmetre)\n",
    "\n",
    "En aquesta primera sessió es presentarà la placa MicroBit. Es demana que possin el nom per no perdre-la. \n",
    "\n",
    "Es presenta la web https://microbit.org/ i es comença a treballar amb el JavaScript Blocs Editor. Se’ls hi demana que posin un cor i el descarreguin a la placa. Per fer-ho han de transportar el document que han descarregat a la carpeta que els hi apareix al menú de l’ordinador quan obres una carpeta. \n",
    "\n",
    "Després us demanem que poseu una altre cor més petit (una segona imatge a continuació) perquè bategui. \n",
    "\n",
    "Un cop arribats aquí, se’ls deixa que provin. \n",
    "\n",
    "Als deu minuts se’ls hi proposa un pedra paper tisores (amb números aleatoris) o un dau mitjançant la opció shake que ens ofereix el llenguatge. \n",
    "\n",
    "Un cop el tenen fet, el repte és canviar els números per dibuixos. \n",
    "\n",
    "Els alumnes proven i tenen temps de provar també amb la música però s’adonen que necessiten cables per connectar els cascos. \n",
    "\n",
    "La primera visió dels alumnes és d’acceptació ja que és més senzilla de moment i més visual que altres llenguatges de programació. \n",
    "\n"
   ]
  }
 ],
 "metadata": {
  "kernelspec": {
   "display_name": "Python 3",
   "language": "python",
   "name": "python3"
  },
  "language_info": {
   "codemirror_mode": {
    "name": "ipython",
    "version": 3
   },
   "file_extension": ".py",
   "mimetype": "text/x-python",
   "name": "python",
   "nbconvert_exporter": "python",
   "pygments_lexer": "ipython3",
   "version": "3.6.6"
  }
 },
 "nbformat": 4,
 "nbformat_minor": 2
}
