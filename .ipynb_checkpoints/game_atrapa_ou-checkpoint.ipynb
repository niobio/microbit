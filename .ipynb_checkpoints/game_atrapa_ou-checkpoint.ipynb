{
 "cells": [
  {
   "cell_type": "markdown",
   "metadata": {},
   "source": [
    "# Repte: Joc d'atrapar l'ou\n",
    "\n",
    "\n",
    "## Descripció\n",
    "\n",
    "El joc atrapa l'ou és un joc en el qual un ou (representat a la microbit per un únic LED) \"cau\" des de la part superior del display de la micro:bit i que pot ser atrapat per una cistella que es pot moure a la part inferior del display. El joc aprofita l'acceleròmetre, que permet controlar la posició de la cistella quan el dispositiu s'inclina. Una altra variant del joc fa servir els botons per moure la cistella. Els objectes que es mouen en la pantalla acostumen anomenar-se **sprites** en el món dels vídeojocs:\n",
    "\n",
    "* De manera predeterminada el primer ou (LED) comença a caure del centre de la línia superior del display.\n",
    "* Els següents ous cauran des d'una posició a l'atzar des de la línia superior del display.\n",
    "* La cistella es mourà inclinant la micro:bit."
   ]
  },
  {
   "cell_type": "markdown",
   "metadata": {},
   "source": [
    "## Joc bàsic\n",
    "\n",
    "Obteniu punts per les següents fases del desenvolupament (10 punts en total):\n",
    "\n",
    "### Tasques\n",
    "\n",
    "1. Mostra un missatge de benvinguda al display (1 punt).\n",
    "2. Crea un bucle pel joc que s'actualitza cada segon (1 punt).\n",
    "3. Crea un sprite que representa la cistella a la columna 0 fila 3 (1 punt).\n",
    "4. Mou l'sprite de la cistella a l'esquerra si es prem el botó A (o s'inclina cap a l'esquerra) i a la dreta si es prem el botó B (o s'inclina cap a la dreta) (1 punt) **Ajuda**: desa la posició de la cistella en una llista `cistella = [0,0]`.\n",
    "5. Crea l'sprite de l'ou. L'ou ha de començar en la fila de dalt de tot i s'ha de moure 1 pixel cap avall cada vegada que el bucle s'actualitza. **Ajuda**: desa la posició de l'ou en una llista `ou = [0,0]`.\n",
    "6. Crea un sprite per l'ou en una columna a l'atzar del display. (1 punt). **Ajuda**: feu servir `random.randint(0,4)`.\n",
    "7. Cada cop que el bucle es repeteix, comproveu si la cistella ha xocat amb l'ou. Si hi ha col·lisió, el jugador ha atrapat l'ou i el joc s'acaba. Mostreu una imatge o missatge per felicitar el jugador (2 punts).\n",
    "8. Si l'ou arriba al fons del display i no ha hagut col·lisió, aleshores coloqueu l'ou en una columna a l'atzar a la part superior del display. (1 punt)\n",
    "\n",
    "### Punt extra\n",
    "\n",
    "Fes que el jugador continui atrapant ous fins que perdi un. Quan el joc acaba, mostra la puntuació del jugador (1 punt)."
   ]
  },
  {
   "cell_type": "markdown",
   "metadata": {},
   "source": [
    "## Descomposem el problema\n",
    "\n",
    "Per a crear el joc descomposarem el problema en set parts:\n",
    "\n",
    "1. Crearem les variables globals pel joc.\n",
    "2. Assignarem els valors inicials a cadascuna de les variables.\n",
    "3. Ubicarem els sprites en les seves posicions inicials (encendrem els LED).\n",
    "4. Crearem un bucle infinit que actualitzarà el joc regularment.\n",
    "5. Farem que l'ou caigui en el display.\n",
    "6. Canviarem la posició de la cistella utilitzant la funcionalitat de l'acceleròmetre.\n",
    "7. Utilitzarem el condicional **IF** per a comprovar la posició final de l'ou."
   ]
  },
  {
   "cell_type": "markdown",
   "metadata": {},
   "source": [
    "## "
   ]
  }
 ],
 "metadata": {
  "kernelspec": {
   "display_name": "Python 3",
   "language": "python",
   "name": "python3"
  },
  "language_info": {
   "codemirror_mode": {
    "name": "ipython",
    "version": 3
   },
   "file_extension": ".py",
   "mimetype": "text/x-python",
   "name": "python",
   "nbconvert_exporter": "python",
   "pygments_lexer": "ipython3",
   "version": "3.6.6"
  }
 },
 "nbformat": 4,
 "nbformat_minor": 2
}
